{
  "nbformat": 4,
  "nbformat_minor": 0,
  "metadata": {
    "colab": {
      "name": "Support_Vector_Machine.ipynb",
      "provenance": [],
      "collapsed_sections": [],
      "machine_shape": "hm",
      "include_colab_link": true
    },
    "kernelspec": {
      "name": "python3",
      "display_name": "Python 3"
    }
  },
  "cells": [
    {
      "cell_type": "markdown",
      "metadata": {
        "id": "view-in-github",
        "colab_type": "text"
      },
      "source": [
        "<a href=\"https://colab.research.google.com/github/ekramasif/Basic-Machine-Learning/blob/main/Classification/Support_Vector_Machine.ipynb\" target=\"_parent\"><img src=\"https://colab.research.google.com/assets/colab-badge.svg\" alt=\"Open In Colab\"/></a>"
      ]
    },
    {
      "cell_type": "markdown",
      "metadata": {
        "id": "0MRC0e0KhQ0S"
      },
      "source": [
        "# **Support Vector Machine (SVM)**"
      ]
    },
    {
      "cell_type": "markdown",
      "source": [
        "## Mount Google Drive"
      ],
      "metadata": {
        "id": "LWxi1OKR5U23"
      }
    },
    {
      "cell_type": "code",
      "source": [
        "from google.colab import drive\n",
        "drive.mount('/content/drive')"
      ],
      "metadata": {
        "id": "n3QxxfeW5RQr",
        "outputId": "fa76e911-5814-40bd-a13b-b5e838a6c5e8",
        "colab": {
          "base_uri": "https://localhost:8080/"
        }
      },
      "execution_count": null,
      "outputs": [
        {
          "output_type": "stream",
          "name": "stdout",
          "text": [
            "Drive already mounted at /content/drive; to attempt to forcibly remount, call drive.mount(\"/content/drive\", force_remount=True).\n"
          ]
        }
      ]
    },
    {
      "cell_type": "markdown",
      "metadata": {
        "id": "LWd1UlMnhT2s"
      },
      "source": [
        "## Importing the libraries"
      ]
    },
    {
      "cell_type": "code",
      "metadata": {
        "id": "YvGPUQaHhXfL"
      },
      "source": [
        "import numpy as np\n",
        "import matplotlib.pyplot as plt\n",
        "import pandas as pd"
      ],
      "execution_count": null,
      "outputs": []
    },
    {
      "cell_type": "markdown",
      "metadata": {
        "id": "K1VMqkGvhc3-"
      },
      "source": [
        "## Importing the dataset"
      ]
    },
    {
      "cell_type": "code",
      "metadata": {
        "id": "M52QDmyzhh9s",
        "outputId": "61f904aa-1f52-4d70-aea7-28c481b76c93",
        "colab": {
          "base_uri": "https://localhost:8080/",
          "height": 206
        }
      },
      "source": [
        "dataset = pd.read_csv('/content/drive/MyDrive/Datasets/Social_Network_Ads.csv')\n",
        "dataset.head()"
      ],
      "execution_count": null,
      "outputs": [
        {
          "output_type": "execute_result",
          "data": {
            "text/html": [
              "\n",
              "  <div id=\"df-148b4614-aa20-41f8-8110-282af0840165\">\n",
              "    <div class=\"colab-df-container\">\n",
              "      <div>\n",
              "<style scoped>\n",
              "    .dataframe tbody tr th:only-of-type {\n",
              "        vertical-align: middle;\n",
              "    }\n",
              "\n",
              "    .dataframe tbody tr th {\n",
              "        vertical-align: top;\n",
              "    }\n",
              "\n",
              "    .dataframe thead th {\n",
              "        text-align: right;\n",
              "    }\n",
              "</style>\n",
              "<table border=\"1\" class=\"dataframe\">\n",
              "  <thead>\n",
              "    <tr style=\"text-align: right;\">\n",
              "      <th></th>\n",
              "      <th>User ID</th>\n",
              "      <th>Gender</th>\n",
              "      <th>Age</th>\n",
              "      <th>EstimatedSalary</th>\n",
              "      <th>Purchased</th>\n",
              "    </tr>\n",
              "  </thead>\n",
              "  <tbody>\n",
              "    <tr>\n",
              "      <th>0</th>\n",
              "      <td>15624510</td>\n",
              "      <td>Male</td>\n",
              "      <td>19</td>\n",
              "      <td>19000</td>\n",
              "      <td>0</td>\n",
              "    </tr>\n",
              "    <tr>\n",
              "      <th>1</th>\n",
              "      <td>15810944</td>\n",
              "      <td>Male</td>\n",
              "      <td>35</td>\n",
              "      <td>20000</td>\n",
              "      <td>0</td>\n",
              "    </tr>\n",
              "    <tr>\n",
              "      <th>2</th>\n",
              "      <td>15668575</td>\n",
              "      <td>Female</td>\n",
              "      <td>26</td>\n",
              "      <td>43000</td>\n",
              "      <td>0</td>\n",
              "    </tr>\n",
              "    <tr>\n",
              "      <th>3</th>\n",
              "      <td>15603246</td>\n",
              "      <td>Female</td>\n",
              "      <td>27</td>\n",
              "      <td>57000</td>\n",
              "      <td>0</td>\n",
              "    </tr>\n",
              "    <tr>\n",
              "      <th>4</th>\n",
              "      <td>15804002</td>\n",
              "      <td>Male</td>\n",
              "      <td>19</td>\n",
              "      <td>76000</td>\n",
              "      <td>0</td>\n",
              "    </tr>\n",
              "  </tbody>\n",
              "</table>\n",
              "</div>\n",
              "      <button class=\"colab-df-convert\" onclick=\"convertToInteractive('df-148b4614-aa20-41f8-8110-282af0840165')\"\n",
              "              title=\"Convert this dataframe to an interactive table.\"\n",
              "              style=\"display:none;\">\n",
              "        \n",
              "  <svg xmlns=\"http://www.w3.org/2000/svg\" height=\"24px\"viewBox=\"0 0 24 24\"\n",
              "       width=\"24px\">\n",
              "    <path d=\"M0 0h24v24H0V0z\" fill=\"none\"/>\n",
              "    <path d=\"M18.56 5.44l.94 2.06.94-2.06 2.06-.94-2.06-.94-.94-2.06-.94 2.06-2.06.94zm-11 1L8.5 8.5l.94-2.06 2.06-.94-2.06-.94L8.5 2.5l-.94 2.06-2.06.94zm10 10l.94 2.06.94-2.06 2.06-.94-2.06-.94-.94-2.06-.94 2.06-2.06.94z\"/><path d=\"M17.41 7.96l-1.37-1.37c-.4-.4-.92-.59-1.43-.59-.52 0-1.04.2-1.43.59L10.3 9.45l-7.72 7.72c-.78.78-.78 2.05 0 2.83L4 21.41c.39.39.9.59 1.41.59.51 0 1.02-.2 1.41-.59l7.78-7.78 2.81-2.81c.8-.78.8-2.07 0-2.86zM5.41 20L4 18.59l7.72-7.72 1.47 1.35L5.41 20z\"/>\n",
              "  </svg>\n",
              "      </button>\n",
              "      \n",
              "  <style>\n",
              "    .colab-df-container {\n",
              "      display:flex;\n",
              "      flex-wrap:wrap;\n",
              "      gap: 12px;\n",
              "    }\n",
              "\n",
              "    .colab-df-convert {\n",
              "      background-color: #E8F0FE;\n",
              "      border: none;\n",
              "      border-radius: 50%;\n",
              "      cursor: pointer;\n",
              "      display: none;\n",
              "      fill: #1967D2;\n",
              "      height: 32px;\n",
              "      padding: 0 0 0 0;\n",
              "      width: 32px;\n",
              "    }\n",
              "\n",
              "    .colab-df-convert:hover {\n",
              "      background-color: #E2EBFA;\n",
              "      box-shadow: 0px 1px 2px rgba(60, 64, 67, 0.3), 0px 1px 3px 1px rgba(60, 64, 67, 0.15);\n",
              "      fill: #174EA6;\n",
              "    }\n",
              "\n",
              "    [theme=dark] .colab-df-convert {\n",
              "      background-color: #3B4455;\n",
              "      fill: #D2E3FC;\n",
              "    }\n",
              "\n",
              "    [theme=dark] .colab-df-convert:hover {\n",
              "      background-color: #434B5C;\n",
              "      box-shadow: 0px 1px 3px 1px rgba(0, 0, 0, 0.15);\n",
              "      filter: drop-shadow(0px 1px 2px rgba(0, 0, 0, 0.3));\n",
              "      fill: #FFFFFF;\n",
              "    }\n",
              "  </style>\n",
              "\n",
              "      <script>\n",
              "        const buttonEl =\n",
              "          document.querySelector('#df-148b4614-aa20-41f8-8110-282af0840165 button.colab-df-convert');\n",
              "        buttonEl.style.display =\n",
              "          google.colab.kernel.accessAllowed ? 'block' : 'none';\n",
              "\n",
              "        async function convertToInteractive(key) {\n",
              "          const element = document.querySelector('#df-148b4614-aa20-41f8-8110-282af0840165');\n",
              "          const dataTable =\n",
              "            await google.colab.kernel.invokeFunction('convertToInteractive',\n",
              "                                                     [key], {});\n",
              "          if (!dataTable) return;\n",
              "\n",
              "          const docLinkHtml = 'Like what you see? Visit the ' +\n",
              "            '<a target=\"_blank\" href=https://colab.research.google.com/notebooks/data_table.ipynb>data table notebook</a>'\n",
              "            + ' to learn more about interactive tables.';\n",
              "          element.innerHTML = '';\n",
              "          dataTable['output_type'] = 'display_data';\n",
              "          await google.colab.output.renderOutput(dataTable, element);\n",
              "          const docLink = document.createElement('div');\n",
              "          docLink.innerHTML = docLinkHtml;\n",
              "          element.appendChild(docLink);\n",
              "        }\n",
              "      </script>\n",
              "    </div>\n",
              "  </div>\n",
              "  "
            ],
            "text/plain": [
              "    User ID  Gender  Age  EstimatedSalary  Purchased\n",
              "0  15624510    Male   19            19000          0\n",
              "1  15810944    Male   35            20000          0\n",
              "2  15668575  Female   26            43000          0\n",
              "3  15603246  Female   27            57000          0\n",
              "4  15804002    Male   19            76000          0"
            ]
          },
          "metadata": {},
          "execution_count": 35
        }
      ]
    },
    {
      "cell_type": "markdown",
      "source": [
        "### X & y"
      ],
      "metadata": {
        "id": "SETRkUsx8JBy"
      }
    },
    {
      "cell_type": "code",
      "source": [
        "X = dataset.iloc[:, :-1].values\n",
        "y = dataset.iloc[:, -1].values"
      ],
      "metadata": {
        "id": "HVZTCYwK8H4s"
      },
      "execution_count": null,
      "outputs": []
    },
    {
      "cell_type": "markdown",
      "source": [
        "## Taking care of missing data"
      ],
      "metadata": {
        "id": "vMewFKIG7AuN"
      }
    },
    {
      "cell_type": "code",
      "source": [
        "from sklearn.impute import SimpleImputer\n",
        "imputer = SimpleImputer(missing_values=np.nan, strategy='most_frequent')\n",
        "imputer.fit(X[:, 1:3])\n",
        "X[:, 1:3] = imputer.transform(X[:, 1:3])"
      ],
      "metadata": {
        "id": "UPAOn0516_Dg"
      },
      "execution_count": null,
      "outputs": []
    },
    {
      "cell_type": "code",
      "source": [
        "X"
      ],
      "metadata": {
        "id": "fG--JomZ7SLk",
        "outputId": "abcc0493-b503-4f79-ecb4-b963bc1d459c",
        "colab": {
          "base_uri": "https://localhost:8080/"
        }
      },
      "execution_count": null,
      "outputs": [
        {
          "output_type": "execute_result",
          "data": {
            "text/plain": [
              "array([[15624510, 'Male', 19, 19000],\n",
              "       [15810944, 'Male', 35, 20000],\n",
              "       [15668575, 'Female', 26, 43000],\n",
              "       ...,\n",
              "       [15654296, 'Female', 50, 20000],\n",
              "       [15755018, 'Male', 36, 33000],\n",
              "       [15594041, 'Female', 49, 36000]], dtype=object)"
            ]
          },
          "metadata": {},
          "execution_count": 38
        }
      ]
    },
    {
      "cell_type": "markdown",
      "source": [
        "# Encoding categorical data"
      ],
      "metadata": {
        "id": "At84duNE7INV"
      }
    },
    {
      "cell_type": "markdown",
      "source": [
        "## Encoding the Independent Variable"
      ],
      "metadata": {
        "id": "ouW11g3i7Kp8"
      }
    },
    {
      "cell_type": "code",
      "source": [
        "from sklearn.compose import ColumnTransformer\n",
        "from sklearn.preprocessing import OneHotEncoder\n",
        "ct = ColumnTransformer(transformers=[('encoder', OneHotEncoder(), [1])], remainder='passthrough')\n",
        "X = np.array(ct.fit_transform(X))"
      ],
      "metadata": {
        "id": "7gG8e0MN7Ogk"
      },
      "execution_count": null,
      "outputs": []
    },
    {
      "cell_type": "code",
      "source": [
        "X"
      ],
      "metadata": {
        "id": "ekbxxe2h7Wek",
        "outputId": "19fb5f6a-00ff-468c-a797-c206b0d6ee1c",
        "colab": {
          "base_uri": "https://localhost:8080/"
        }
      },
      "execution_count": null,
      "outputs": [
        {
          "output_type": "execute_result",
          "data": {
            "text/plain": [
              "array([[0.0, 1.0, 15624510, 19, 19000],\n",
              "       [0.0, 1.0, 15810944, 35, 20000],\n",
              "       [1.0, 0.0, 15668575, 26, 43000],\n",
              "       ...,\n",
              "       [1.0, 0.0, 15654296, 50, 20000],\n",
              "       [0.0, 1.0, 15755018, 36, 33000],\n",
              "       [1.0, 0.0, 15594041, 49, 36000]], dtype=object)"
            ]
          },
          "metadata": {},
          "execution_count": 40
        }
      ]
    },
    {
      "cell_type": "markdown",
      "source": [
        "## Encoding the Dependent Variable"
      ],
      "metadata": {
        "id": "mIEPe6dY7ZPY"
      }
    },
    {
      "cell_type": "code",
      "source": [
        ""
      ],
      "metadata": {
        "id": "nPa2DkH37dCt"
      },
      "execution_count": null,
      "outputs": []
    },
    {
      "cell_type": "markdown",
      "metadata": {
        "id": "YvxIPVyMhmKp"
      },
      "source": [
        "## Splitting the dataset into the Training set and Test set"
      ]
    },
    {
      "cell_type": "code",
      "metadata": {
        "id": "AVzJWAXIhxoC"
      },
      "source": [
        "from sklearn.model_selection import train_test_split\n",
        "X_train, X_test, y_train, y_test = train_test_split(X, y, test_size = 0.25, random_state = 0)"
      ],
      "execution_count": null,
      "outputs": []
    },
    {
      "cell_type": "code",
      "metadata": {
        "id": "P3nS3-6r1i2B",
        "outputId": "52825242-dc82-4850-c30f-06202548d952",
        "colab": {
          "base_uri": "https://localhost:8080/"
        }
      },
      "source": [
        "print(X_train)"
      ],
      "execution_count": null,
      "outputs": [
        {
          "output_type": "stream",
          "name": "stdout",
          "text": [
            "[[1.0 0.0 15810075 44 39000]\n",
            " [0.0 1.0 15583681 32 120000]\n",
            " [1.0 0.0 15733964 38 50000]\n",
            " ...\n",
            " [0.0 1.0 15591433 36 52000]\n",
            " [1.0 0.0 15776348 27 54000]\n",
            " [1.0 0.0 15794661 26 118000]]\n"
          ]
        }
      ]
    },
    {
      "cell_type": "code",
      "metadata": {
        "id": "8dpDLojm1mVG",
        "outputId": "3a9b9207-79d3-48f2-f901-0cf682bbfdac",
        "colab": {
          "base_uri": "https://localhost:8080/"
        }
      },
      "source": [
        "print(y_train)"
      ],
      "execution_count": null,
      "outputs": [
        {
          "output_type": "stream",
          "name": "stdout",
          "text": [
            "[0 1 0 1 1 1 0 0 0 0 0 0 1 1 1 0 1 0 0 1 0 1 0 1 0 0 1 1 1 1 0 1 0 1 0 0 1\n",
            " 0 0 1 0 0 0 0 0 1 1 1 1 0 0 0 1 0 1 0 1 0 0 1 0 0 0 1 0 0 0 1 1 0 0 1 0 1\n",
            " 1 1 0 0 1 1 0 0 1 1 0 1 0 0 1 1 0 1 1 1 0 0 0 0 0 1 0 0 1 1 1 1 1 0 1 1 0\n",
            " 1 0 0 0 0 0 0 0 1 1 0 0 1 0 0 1 0 0 0 1 0 1 1 0 1 0 0 0 0 1 0 0 0 1 1 0 0\n",
            " 0 0 1 0 1 0 0 0 1 0 0 0 0 1 1 1 0 0 0 0 0 0 1 1 1 1 1 0 1 0 0 0 0 0 1 0 0\n",
            " 0 0 0 0 1 1 0 1 0 1 0 0 1 0 0 0 1 0 0 0 0 0 1 0 0 0 0 0 1 0 1 1 0 0 0 0 0\n",
            " 0 1 1 0 0 0 0 1 0 0 0 0 1 0 1 0 1 0 0 0 1 0 0 0 1 0 1 0 0 0 0 0 1 1 0 0 0\n",
            " 0 0 1 0 1 1 0 0 0 0 0 1 0 1 0 0 1 0 0 1 0 1 0 0 0 0 0 0 1 1 1 1 0 0 0 0 1\n",
            " 0 0 0 0]\n"
          ]
        }
      ]
    },
    {
      "cell_type": "code",
      "metadata": {
        "id": "qbb7i0DH1qui",
        "outputId": "90dcac9b-8662-4d56-a222-86a8a32c9534",
        "colab": {
          "base_uri": "https://localhost:8080/"
        }
      },
      "source": [
        "print(X_test)"
      ],
      "execution_count": null,
      "outputs": [
        {
          "output_type": "stream",
          "name": "stdout",
          "text": [
            "[[0.0 1.0 15725660 30 87000]\n",
            " [1.0 0.0 15652400 38 50000]\n",
            " [0.0 1.0 15776844 35 75000]\n",
            " [1.0 0.0 15738448 30 79000]\n",
            " [1.0 0.0 15638003 35 50000]\n",
            " [0.0 1.0 15814004 27 20000]\n",
            " [1.0 0.0 15610140 31 15000]\n",
            " [0.0 1.0 15680587 36 144000]\n",
            " [1.0 0.0 15666141 18 68000]\n",
            " [0.0 1.0 15622478 47 43000]\n",
            " [0.0 1.0 15689425 30 49000]\n",
            " [1.0 0.0 15800061 28 55000]\n",
            " [0.0 1.0 15773447 37 55000]\n",
            " [0.0 1.0 15579212 39 77000]\n",
            " [0.0 1.0 15746139 20 86000]\n",
            " [1.0 0.0 15789109 32 117000]\n",
            " [0.0 1.0 15760570 37 77000]\n",
            " [0.0 1.0 15807909 19 85000]\n",
            " [1.0 0.0 15654230 55 130000]\n",
            " [0.0 1.0 15708228 35 22000]\n",
            " [1.0 0.0 15609653 35 47000]\n",
            " [1.0 0.0 15746203 47 144000]\n",
            " [1.0 0.0 15678168 41 51000]\n",
            " [0.0 1.0 15729908 47 105000]\n",
            " [1.0 0.0 15614420 23 28000]\n",
            " [1.0 0.0 15753861 49 141000]\n",
            " [1.0 0.0 15667265 28 87000]\n",
            " [0.0 1.0 15697686 29 80000]\n",
            " [1.0 0.0 15631070 37 62000]\n",
            " [1.0 0.0 15584545 32 86000]\n",
            " [0.0 1.0 15587013 21 88000]\n",
            " [0.0 1.0 15637593 37 79000]\n",
            " [0.0 1.0 15814553 57 60000]\n",
            " [0.0 1.0 15622171 37 53000]\n",
            " [0.0 1.0 15718071 24 58000]\n",
            " [0.0 1.0 15746737 18 52000]\n",
            " [0.0 1.0 15684801 22 81000]\n",
            " [1.0 0.0 15581654 34 43000]\n",
            " [1.0 0.0 15673367 31 34000]\n",
            " [1.0 0.0 15594041 49 36000]\n",
            " [0.0 1.0 15766289 27 88000]\n",
            " [0.0 1.0 15674331 41 52000]\n",
            " [1.0 0.0 15598044 27 84000]\n",
            " [0.0 1.0 15810944 35 20000]\n",
            " [1.0 0.0 15705298 43 112000]\n",
            " [1.0 0.0 15654901 27 58000]\n",
            " [1.0 0.0 15793890 37 80000]\n",
            " [1.0 0.0 15750056 52 90000]\n",
            " [0.0 1.0 15762605 26 30000]\n",
            " [0.0 1.0 15614187 49 86000]\n",
            " [1.0 0.0 15775590 57 122000]\n",
            " [1.0 0.0 15622833 34 25000]\n",
            " [1.0 0.0 15566689 35 57000]\n",
            " [0.0 1.0 15570932 34 115000]\n",
            " [1.0 0.0 15609669 59 88000]\n",
            " [0.0 1.0 15742204 45 32000]\n",
            " [1.0 0.0 15744919 29 83000]\n",
            " [1.0 0.0 15570769 26 80000]\n",
            " [0.0 1.0 15792818 49 28000]\n",
            " [0.0 1.0 15639277 23 20000]\n",
            " [0.0 1.0 15592877 32 18000]\n",
            " [0.0 1.0 15791373 60 42000]\n",
            " [0.0 1.0 15804002 19 76000]\n",
            " [0.0 1.0 15699619 36 99000]\n",
            " [1.0 0.0 15662067 19 26000]\n",
            " [0.0 1.0 15774744 60 83000]\n",
            " [1.0 0.0 15746422 24 89000]\n",
            " [0.0 1.0 15728773 27 58000]\n",
            " [0.0 1.0 15605327 40 47000]\n",
            " [1.0 0.0 15717893 42 70000]\n",
            " [1.0 0.0 15694829 32 150000]\n",
            " [1.0 0.0 15811177 35 77000]\n",
            " [1.0 0.0 15577178 22 63000]\n",
            " [0.0 1.0 15649487 45 22000]\n",
            " [0.0 1.0 15789863 27 89000]\n",
            " [0.0 1.0 15628972 18 82000]\n",
            " [1.0 0.0 15768293 42 79000]\n",
            " [1.0 0.0 15598070 40 60000]\n",
            " [1.0 0.0 15778830 53 34000]\n",
            " [1.0 0.0 15639576 47 107000]\n",
            " [0.0 1.0 15664907 58 144000]\n",
            " [1.0 0.0 15605000 59 83000]\n",
            " [1.0 0.0 15649136 24 55000]\n",
            " [1.0 0.0 15706185 26 35000]\n",
            " [1.0 0.0 15736397 58 38000]\n",
            " [1.0 0.0 15721007 42 80000]\n",
            " [1.0 0.0 15724423 40 75000]\n",
            " [0.0 1.0 15708791 59 130000]\n",
            " [1.0 0.0 15691863 46 41000]\n",
            " [1.0 0.0 15695679 41 60000]\n",
            " [0.0 1.0 15683758 42 64000]\n",
            " [1.0 0.0 15584320 37 146000]\n",
            " [1.0 0.0 15775562 23 48000]\n",
            " [0.0 1.0 15600575 25 33000]\n",
            " [0.0 1.0 15730448 24 84000]\n",
            " [1.0 0.0 15750839 27 96000]\n",
            " [0.0 1.0 15578006 23 63000]\n",
            " [0.0 1.0 15807837 48 33000]\n",
            " [0.0 1.0 15600379 48 90000]\n",
            " [0.0 1.0 15654456 42 104000]]\n"
          ]
        }
      ]
    },
    {
      "cell_type": "code",
      "metadata": {
        "id": "kj1hnFAR1s5w",
        "outputId": "e9e76680-36f3-4123-ded1-841aa5fc42b2",
        "colab": {
          "base_uri": "https://localhost:8080/"
        }
      },
      "source": [
        "print(y_test)"
      ],
      "execution_count": null,
      "outputs": [
        {
          "output_type": "stream",
          "name": "stdout",
          "text": [
            "[0 0 0 0 0 0 0 1 0 0 0 0 0 0 0 0 0 0 1 0 0 1 0 1 0 1 0 0 0 0 0 1 1 0 0 0 0\n",
            " 0 0 1 0 0 0 0 1 0 0 1 0 1 1 0 0 0 1 1 0 0 1 0 0 1 0 1 0 1 0 0 0 0 1 0 0 1\n",
            " 0 0 0 0 1 1 1 0 0 0 1 1 0 1 1 0 0 1 0 0 0 1 0 1 1 1]\n"
          ]
        }
      ]
    },
    {
      "cell_type": "markdown",
      "metadata": {
        "id": "kW3c7UYih0hT"
      },
      "source": [
        "## Feature Scaling"
      ]
    },
    {
      "cell_type": "code",
      "metadata": {
        "id": "9fQlDPKCh8sc"
      },
      "source": [
        "from sklearn.preprocessing import StandardScaler\n",
        "sc = StandardScaler()\n",
        "X_train = sc.fit_transform(X_train)\n",
        "X_test = sc.transform(X_test)"
      ],
      "execution_count": null,
      "outputs": []
    },
    {
      "cell_type": "code",
      "metadata": {
        "id": "syrnD1Op2BSR",
        "outputId": "77124cd3-5f55-4267-dd7a-83abb3685641",
        "colab": {
          "base_uri": "https://localhost:8080/"
        }
      },
      "source": [
        "print(X_train)"
      ],
      "execution_count": null,
      "outputs": [
        {
          "output_type": "stream",
          "name": "stdout",
          "text": [
            "[[ 0.98019606 -0.98019606  1.67009484  0.58164944 -0.88670699]\n",
            " [-1.02020406  1.02020406 -1.52442817 -0.60673761  1.46173768]\n",
            " [ 0.98019606 -0.98019606  0.59613378 -0.01254409 -0.5677824 ]\n",
            " ...\n",
            " [-1.02020406  1.02020406 -1.4150439  -0.21060859 -0.50979612]\n",
            " [ 0.98019606 -0.98019606  1.19419143 -1.10189888 -0.45180983]\n",
            " [ 0.98019606 -0.98019606  1.45259625 -1.20093113  1.40375139]]\n"
          ]
        }
      ]
    },
    {
      "cell_type": "code",
      "metadata": {
        "id": "JUd6iBRp2C3L",
        "outputId": "b25d3ede-1afd-4429-c634-5eaa4630f567",
        "colab": {
          "base_uri": "https://localhost:8080/"
        }
      },
      "source": [
        "print(X_test)"
      ],
      "execution_count": null,
      "outputs": [
        {
          "output_type": "stream",
          "name": "stdout",
          "text": [
            "[[-1.02020406e+00  1.02020406e+00  4.78960539e-01 -8.04802115e-01\n",
            "   5.04963926e-01]\n",
            " [ 9.80196059e-01 -9.80196059e-01 -5.54771608e-01 -1.25440855e-02\n",
            "  -5.67782405e-01]\n",
            " [-1.02020406e+00  1.02020406e+00  1.20119022e+00 -3.09640847e-01\n",
            "   1.57046197e-01]\n",
            " [ 9.80196059e-01 -9.80196059e-01  6.59405075e-01 -8.04802115e-01\n",
            "   2.73018773e-01]\n",
            " [ 9.80196059e-01 -9.80196059e-01 -7.57919871e-01 -3.09640847e-01\n",
            "  -5.67782405e-01]\n",
            " [-1.02020406e+00  1.02020406e+00  1.72553483e+00 -1.10189888e+00\n",
            "  -1.43757673e+00]\n",
            " [ 9.80196059e-01 -9.80196059e-01 -1.15107956e+00 -7.05769861e-01\n",
            "  -1.58254245e+00]\n",
            " [-1.02020406e+00  1.02020406e+00 -1.57040131e-01 -2.10608593e-01\n",
            "   2.15757314e+00]\n",
            " [ 9.80196059e-01 -9.80196059e-01 -3.60879806e-01 -1.99318916e+00\n",
            "  -4.59058115e-02]\n",
            " [-1.02020406e+00  1.02020406e+00 -9.76984730e-01  8.78746198e-01\n",
            "  -7.70734413e-01]\n",
            " [-1.02020406e+00  1.02020406e+00 -3.23319037e-02 -8.04802115e-01\n",
            "  -5.96775549e-01]\n",
            " [ 9.80196059e-01 -9.80196059e-01  1.52879272e+00 -1.00286662e+00\n",
            "  -4.22816685e-01]\n",
            " [-1.02020406e+00  1.02020406e+00  1.15325699e+00 -1.11576339e-01\n",
            "  -4.22816685e-01]\n",
            " [-1.02020406e+00  1.02020406e+00 -1.58748780e+00  8.64881682e-02\n",
            "   2.15032485e-01]\n",
            " [-1.02020406e+00  1.02020406e+00  7.67928607e-01 -1.79512465e+00\n",
            "   4.75970782e-01]\n",
            " [ 9.80196059e-01 -9.80196059e-01  1.37425498e+00 -6.06737608e-01\n",
            "   1.37475825e+00]\n",
            " [-1.02020406e+00  1.02020406e+00  9.71556625e-01 -1.11576339e-01\n",
            "   2.15032485e-01]\n",
            " [-1.02020406e+00  1.02020406e+00  1.63953159e+00 -1.89415691e+00\n",
            "   4.46977638e-01]\n",
            " [ 9.80196059e-01 -9.80196059e-01 -5.28949470e-01  1.67100423e+00\n",
            "   1.75166912e+00]\n",
            " [-1.02020406e+00  1.02020406e+00  2.32987036e-01 -3.09640847e-01\n",
            "  -1.37959044e+00]\n",
            " [ 9.80196059e-01 -9.80196059e-01 -1.15795135e+00 -3.09640847e-01\n",
            "  -6.54761837e-01]\n",
            " [ 9.80196059e-01 -9.80196059e-01  7.68831676e-01  8.78746198e-01\n",
            "   2.15757314e+00]\n",
            " [ 9.80196059e-01 -9.80196059e-01 -1.91173328e-01  2.84552676e-01\n",
            "  -5.38789261e-01]\n",
            " [-1.02020406e+00  1.02020406e+00  5.38901764e-01  8.78746198e-01\n",
            "   1.02684052e+00]\n",
            " [ 9.80196059e-01 -9.80196059e-01 -1.09068680e+00 -1.49802789e+00\n",
            "  -1.20563157e+00]\n",
            " [ 9.80196059e-01 -9.80196059e-01  8.76889563e-01  1.07681071e+00\n",
            "   2.07059371e+00]\n",
            " [ 9.80196059e-01 -9.80196059e-01 -3.45019651e-01 -1.00286662e+00\n",
            "   5.04963926e-01]\n",
            " [-1.02020406e+00  1.02020406e+00  8.42345892e-02 -9.03834369e-01\n",
            "   3.02011918e-01]\n",
            " [ 9.80196059e-01 -9.80196059e-01 -8.55747675e-01 -1.11576339e-01\n",
            "  -2.19864676e-01]\n",
            " [ 9.80196059e-01 -9.80196059e-01 -1.51223673e+00 -6.06737608e-01\n",
            "   4.75970782e-01]\n",
            " [-1.02020406e+00  1.02020406e+00 -1.47741212e+00 -1.69609240e+00\n",
            "   5.33957070e-01]\n",
            " [-1.02020406e+00  1.02020406e+00 -7.63705158e-01 -1.11576339e-01\n",
            "   2.73018773e-01]\n",
            " [-1.02020406e+00  1.02020406e+00  1.73328147e+00  1.86906873e+00\n",
            "  -2.77850964e-01]\n",
            " [-1.02020406e+00  1.02020406e+00 -9.81316640e-01 -1.11576339e-01\n",
            "  -4.80802973e-01]\n",
            " [-1.02020406e+00  1.02020406e+00  3.71876274e-01 -1.39899564e+00\n",
            "  -3.35837252e-01]\n",
            " [-1.02020406e+00  1.02020406e+00  7.76366660e-01 -1.99318916e+00\n",
            "  -5.09796117e-01]\n",
            " [-1.02020406e+00  1.02020406e+00 -9.75786611e-02 -1.59706014e+00\n",
            "   3.31005062e-01]\n",
            " [ 9.80196059e-01 -9.80196059e-01 -1.55303006e+00 -4.08673100e-01\n",
            "  -7.70734413e-01]\n",
            " [ 9.80196059e-01 -9.80196059e-01 -2.58917637e-01 -7.05769861e-01\n",
            "  -1.03167271e+00]\n",
            " [ 9.80196059e-01 -9.80196059e-01 -1.37824382e+00  1.07681071e+00\n",
            "  -9.73686422e-01]\n",
            " [-1.02020406e+00  1.02020406e+00  1.05225433e+00 -1.10189888e+00\n",
            "   5.33957070e-01]\n",
            " [-1.02020406e+00  1.02020406e+00 -2.45315155e-01  2.84552676e-01\n",
            "  -5.09796117e-01]\n",
            " [ 9.80196059e-01 -9.80196059e-01 -1.32175966e+00 -1.10189888e+00\n",
            "   4.17984494e-01]\n",
            " [-1.02020406e+00  1.02020406e+00  1.68235683e+00 -3.09640847e-01\n",
            "  -1.43757673e+00]\n",
            " [ 9.80196059e-01 -9.80196059e-01  1.91643395e-01  4.82617183e-01\n",
            "   1.22979253e+00]\n",
            " [ 9.80196059e-01 -9.80196059e-01 -5.19481353e-01 -1.10189888e+00\n",
            "  -3.35837252e-01]\n",
            " [ 9.80196059e-01 -9.80196059e-01  1.44171708e+00 -1.11576339e-01\n",
            "   3.02011918e-01]\n",
            " [ 9.80196059e-01 -9.80196059e-01  8.23199270e-01  1.37390747e+00\n",
            "   5.91943358e-01]\n",
            " [-1.02020406e+00  1.02020406e+00  1.00027141e+00 -1.20093113e+00\n",
            "  -1.14764529e+00]\n",
            " [-1.02020406e+00  1.02020406e+00 -1.09397454e+00  1.07681071e+00\n",
            "   4.75970782e-01]\n",
            " [ 9.80196059e-01 -9.80196059e-01  1.18349570e+00  1.86906873e+00\n",
            "   1.51972397e+00]\n",
            " [ 9.80196059e-01 -9.80196059e-01 -9.71975517e-01 -4.08673100e-01\n",
            "  -1.29261101e+00]\n",
            " [ 9.80196059e-01 -9.80196059e-01 -1.76419307e+00 -3.09640847e-01\n",
            "  -3.64830396e-01]\n",
            " [-1.02020406e+00  1.02020406e+00 -1.70432239e+00 -4.08673100e-01\n",
            "   1.31677196e+00]\n",
            " [ 9.80196059e-01 -9.80196059e-01 -1.15772559e+00  2.06713324e+00\n",
            "   5.33957070e-01]\n",
            " [-1.02020406e+00  1.02020406e+00  7.12403955e-01  6.80681690e-01\n",
            "  -1.08965900e+00]\n",
            " [ 9.80196059e-01 -9.80196059e-01  7.50713848e-01 -9.03834369e-01\n",
            "   3.88991350e-01]\n",
            " [ 9.80196059e-01 -9.80196059e-01 -1.70662240e+00 -1.20093113e+00\n",
            "   3.02011918e-01]\n",
            " [-1.02020406e+00  1.02020406e+00  1.42659067e+00  1.07681071e+00\n",
            "  -1.20563157e+00]\n",
            " [-1.02020406e+00  1.02020406e+00 -7.39943147e-01 -1.49802789e+00\n",
            "  -1.43757673e+00]\n",
            " [-1.02020406e+00  1.02020406e+00 -1.39466839e+00 -6.06737608e-01\n",
            "  -1.49556302e+00]\n",
            " [-1.02020406e+00  1.02020406e+00  1.40620106e+00  2.16616550e+00\n",
            "  -7.99727558e-01]\n",
            " [-1.02020406e+00  1.02020406e+00  1.58440203e+00 -1.89415691e+00\n",
            "   1.86039341e-01]\n",
            " [-1.02020406e+00  1.02020406e+00  1.11510104e-01 -2.10608593e-01\n",
            "   8.52881655e-01]\n",
            " [ 9.80196059e-01 -9.80196059e-01 -4.18365811e-01 -1.89415691e+00\n",
            "  -1.26361786e+00]\n",
            " [-1.02020406e+00  1.02020406e+00  1.17155826e+00  2.16616550e+00\n",
            "   3.88991350e-01]\n",
            " [ 9.80196059e-01 -9.80196059e-01  7.71921866e-01 -1.39899564e+00\n",
            "   5.62950214e-01]\n",
            " [-1.02020406e+00  1.02020406e+00  5.22886394e-01 -1.10189888e+00\n",
            "  -3.35837252e-01]\n",
            " [-1.02020406e+00  1.02020406e+00 -1.21899319e+00  1.85520422e-01\n",
            "  -6.54761837e-01]\n",
            " [ 9.80196059e-01 -9.80196059e-01  3.69364612e-01  3.83584929e-01\n",
            "   1.20804767e-02]\n",
            " [ 9.80196059e-01 -9.80196059e-01  4.39210109e-02 -6.06737608e-01\n",
            "   2.33153200e+00]\n",
            " [ 9.80196059e-01 -9.80196059e-01  1.68564457e+00 -3.09640847e-01\n",
            "   2.15032485e-01]\n",
            " [ 9.80196059e-01 -9.80196059e-01 -1.61618847e+00 -1.59706014e+00\n",
            "  -1.90871532e-01]\n",
            " [-1.02020406e+00  1.02020406e+00 -5.95875372e-01  6.80681690e-01\n",
            "  -1.37959044e+00]\n",
            " [-1.02020406e+00  1.02020406e+00  1.38489427e+00 -1.10189888e+00\n",
            "   5.62950214e-01]\n",
            " [-1.02020406e+00  1.02020406e+00 -8.85351416e-01 -1.99318916e+00\n",
            "   3.59998206e-01]\n",
            " [ 9.80196059e-01 -9.80196059e-01  1.08053169e+00  3.83584929e-01\n",
            "   2.73018773e-01]\n",
            " [ 9.80196059e-01 -9.80196059e-01 -1.32139279e+00  1.85520422e-01\n",
            "  -2.77850964e-01]\n",
            " [ 9.80196059e-01 -9.80196059e-01  1.22921359e+00  1.47293972e+00\n",
            "  -1.03167271e+00]\n",
            " [ 9.80196059e-01 -9.80196059e-01 -7.35724120e-01  8.78746198e-01\n",
            "   1.08482681e+00]\n",
            " [-1.02020406e+00  1.02020406e+00 -3.78292111e-01  1.96810099e+00\n",
            "   2.15757314e+00]\n",
            " [ 9.80196059e-01 -9.80196059e-01 -1.22360731e+00  2.06713324e+00\n",
            "   3.88991350e-01]\n",
            " [ 9.80196059e-01 -9.80196059e-01 -6.00828143e-01 -1.39899564e+00\n",
            "  -4.22816685e-01]\n",
            " [ 9.80196059e-01 -9.80196059e-01  2.04159371e-01 -1.20093113e+00\n",
            "  -1.00267957e+00]\n",
            " [ 9.80196059e-01 -9.80196059e-01  6.30464525e-01  1.96810099e+00\n",
            "  -9.15700134e-01]\n",
            " [ 9.80196059e-01 -9.80196059e-01  4.13304578e-01  3.83584929e-01\n",
            "   3.02011918e-01]\n",
            " [ 9.80196059e-01 -9.80196059e-01  4.61505902e-01  1.85520422e-01\n",
            "   1.57046197e-01]\n",
            " [-1.02020406e+00  1.02020406e+00  2.40931224e-01  2.06713324e+00\n",
            "   1.75166912e+00]\n",
            " [ 9.80196059e-01 -9.80196059e-01  2.06939272e-03  7.79713944e-01\n",
            "  -8.28720702e-01]\n",
            " [ 9.80196059e-01 -9.80196059e-01  5.59149001e-02  2.84552676e-01\n",
            "  -2.77850964e-01]\n",
            " [-1.02020406e+00  1.02020406e+00 -1.12295869e-01  3.83584929e-01\n",
            "  -1.61878388e-01]\n",
            " [ 9.80196059e-01 -9.80196059e-01 -1.51541158e+00 -1.11576339e-01\n",
            "   2.21555943e+00]\n",
            " [ 9.80196059e-01 -9.80196059e-01  1.18310061e+00 -1.49802789e+00\n",
            "  -6.25768693e-01]\n",
            " [-1.02020406e+00  1.02020406e+00 -1.28604609e+00 -1.29996338e+00\n",
            "  -1.06066585e+00]\n",
            " [-1.02020406e+00  1.02020406e+00  5.46521411e-01 -1.39899564e+00\n",
            "   4.17984494e-01]\n",
            " [ 9.80196059e-01 -9.80196059e-01  8.34247759e-01 -1.10189888e+00\n",
            "   7.65902223e-01]\n",
            " [-1.02020406e+00  1.02020406e+00 -1.60450501e+00 -1.49802789e+00\n",
            "  -1.90871532e-01]\n",
            " [-1.02020406e+00  1.02020406e+00  1.63851564e+00  9.77778452e-01\n",
            "  -1.06066585e+00]\n",
            " [-1.02020406e+00  1.02020406e+00 -1.28881174e+00  9.77778452e-01\n",
            "   5.91943358e-01]\n",
            " [-1.02020406e+00  1.02020406e+00 -5.25760506e-01  3.83584929e-01\n",
            "   9.97847375e-01]]\n"
          ]
        }
      ]
    },
    {
      "cell_type": "markdown",
      "metadata": {
        "id": "bb6jCOCQiAmP"
      },
      "source": [
        "## Training the SVM model on the Training set"
      ]
    },
    {
      "cell_type": "code",
      "metadata": {
        "id": "e0pFVAmciHQs",
        "colab": {
          "base_uri": "https://localhost:8080/"
        },
        "outputId": "b9d73c41-2e74-4d21-eb65-86b046db5a21"
      },
      "source": [
        "from sklearn.svm import SVC\n",
        "classifier = SVC(kernel = 'linear', random_state = 0)\n",
        "classifier.fit(X_train, y_train)"
      ],
      "execution_count": null,
      "outputs": [
        {
          "output_type": "execute_result",
          "data": {
            "text/plain": [
              "SVC(kernel='linear', random_state=0)"
            ]
          },
          "metadata": {},
          "execution_count": 49
        }
      ]
    },
    {
      "cell_type": "markdown",
      "metadata": {
        "id": "yyxW5b395mR2"
      },
      "source": [
        "## Predicting a new result"
      ]
    },
    {
      "cell_type": "code",
      "metadata": {
        "id": "f8YOXsQy58rP",
        "outputId": "17d61740-7874-4a17-fff7-d9f55053c90e",
        "colab": {
          "base_uri": "https://localhost:8080/"
        }
      },
      "source": [
        "print(classifier.predict(sc.transform([[1.0, 0.0, 1574661, 76, 11800]])))"
      ],
      "execution_count": null,
      "outputs": [
        {
          "output_type": "stream",
          "name": "stdout",
          "text": [
            "[1]\n"
          ]
        }
      ]
    },
    {
      "cell_type": "markdown",
      "metadata": {
        "id": "vKYVQH-l5NpE"
      },
      "source": [
        "## Predicting the Test set results"
      ]
    },
    {
      "cell_type": "code",
      "metadata": {
        "id": "p6VMTb2O4hwM",
        "outputId": "b0997566-80ba-4fcf-8af6-a2a79f4bf83d",
        "colab": {
          "base_uri": "https://localhost:8080/"
        }
      },
      "source": [
        "y_pred = classifier.predict(X_test)\n",
        "print(np.concatenate((y_pred.reshape(len(y_pred),1), y_test.reshape(len(y_test),1)),1))"
      ],
      "execution_count": null,
      "outputs": [
        {
          "output_type": "stream",
          "name": "stdout",
          "text": [
            "[[0 0]\n",
            " [0 0]\n",
            " [0 0]\n",
            " [0 0]\n",
            " [0 0]\n",
            " [0 0]\n",
            " [0 0]\n",
            " [1 1]\n",
            " [0 0]\n",
            " [1 0]\n",
            " [0 0]\n",
            " [0 0]\n",
            " [0 0]\n",
            " [1 0]\n",
            " [0 0]\n",
            " [0 0]\n",
            " [0 0]\n",
            " [0 0]\n",
            " [1 1]\n",
            " [0 0]\n",
            " [0 0]\n",
            " [1 1]\n",
            " [0 0]\n",
            " [1 1]\n",
            " [0 0]\n",
            " [1 1]\n",
            " [0 0]\n",
            " [0 0]\n",
            " [0 0]\n",
            " [0 0]\n",
            " [0 0]\n",
            " [0 1]\n",
            " [1 1]\n",
            " [0 0]\n",
            " [0 0]\n",
            " [0 0]\n",
            " [0 0]\n",
            " [0 0]\n",
            " [0 0]\n",
            " [1 1]\n",
            " [0 0]\n",
            " [0 0]\n",
            " [0 0]\n",
            " [0 0]\n",
            " [1 1]\n",
            " [0 0]\n",
            " [0 0]\n",
            " [1 1]\n",
            " [0 0]\n",
            " [1 1]\n",
            " [1 1]\n",
            " [0 0]\n",
            " [0 0]\n",
            " [1 0]\n",
            " [1 1]\n",
            " [0 1]\n",
            " [0 0]\n",
            " [0 0]\n",
            " [0 1]\n",
            " [0 0]\n",
            " [0 0]\n",
            " [1 1]\n",
            " [0 0]\n",
            " [0 1]\n",
            " [0 0]\n",
            " [1 1]\n",
            " [0 0]\n",
            " [0 0]\n",
            " [0 0]\n",
            " [0 0]\n",
            " [1 1]\n",
            " [0 0]\n",
            " [0 0]\n",
            " [0 1]\n",
            " [0 0]\n",
            " [0 0]\n",
            " [0 0]\n",
            " [0 0]\n",
            " [1 1]\n",
            " [1 1]\n",
            " [1 1]\n",
            " [1 0]\n",
            " [0 0]\n",
            " [0 0]\n",
            " [1 1]\n",
            " [1 1]\n",
            " [0 0]\n",
            " [1 1]\n",
            " [0 1]\n",
            " [0 0]\n",
            " [0 0]\n",
            " [1 1]\n",
            " [0 0]\n",
            " [0 0]\n",
            " [0 0]\n",
            " [0 1]\n",
            " [0 0]\n",
            " [0 1]\n",
            " [1 1]\n",
            " [1 1]]\n"
          ]
        }
      ]
    },
    {
      "cell_type": "markdown",
      "metadata": {
        "id": "h4Hwj34ziWQW"
      },
      "source": [
        "## Making the Confusion Matrix"
      ]
    },
    {
      "cell_type": "code",
      "metadata": {
        "id": "D6bpZwUiiXic",
        "outputId": "5cd9b47f-4dd3-416d-c400-34d09805c2c5",
        "colab": {
          "base_uri": "https://localhost:8080/"
        }
      },
      "source": [
        "from sklearn.metrics import confusion_matrix, accuracy_score\n",
        "cm = confusion_matrix(y_test, y_pred)\n",
        "print(cm)\n",
        "accuracy_score(y_test, y_pred)"
      ],
      "execution_count": null,
      "outputs": [
        {
          "output_type": "stream",
          "name": "stdout",
          "text": [
            "[[64  4]\n",
            " [ 8 24]]\n"
          ]
        },
        {
          "output_type": "execute_result",
          "data": {
            "text/plain": [
              "0.88"
            ]
          },
          "metadata": {},
          "execution_count": 54
        }
      ]
    },
    {
      "cell_type": "markdown",
      "metadata": {
        "id": "6OMC_P0diaoD"
      },
      "source": [
        "## Visualising the Training set results"
      ]
    },
    {
      "cell_type": "code",
      "metadata": {
        "id": "_NOjKvZRid5l"
      },
      "source": [
        "from matplotlib.colors import ListedColormap\n",
        "X_set, y_set = sc.inverse_transform(X_train), y_train\n",
        "X1, X2 = np.meshgrid(np.arange(start = X_set[:, 0].min() - 10, stop = X_set[:, 0].max() + 10, step = 0.25),\n",
        "                     np.arange(start = X_set[:, 1].min() - 1000, stop = X_set[:, 1].max() + 1000, step = 0.25))\n",
        "plt.contourf(X1, X2, classifier.predict(sc.transform(np.array([X1.ravel(), X2.ravel()]).T)).reshape(X1.shape),\n",
        "             alpha = 0.75, cmap = ListedColormap(('red', 'green')))\n",
        "plt.xlim(X1.min(), X1.max())\n",
        "plt.ylim(X2.min(), X2.max())\n",
        "for i, j in enumerate(np.unique(y_set)):\n",
        "    plt.scatter(X_set[y_set == j, 0], X_set[y_set == j, 1], c = ListedColormap(('red', 'green'))(i), label = j)\n",
        "plt.title('SVM (Training set)')\n",
        "plt.xlabel('Age')\n",
        "plt.ylabel('Estimated Salary')\n",
        "plt.legend()\n",
        "plt.show()"
      ],
      "execution_count": null,
      "outputs": []
    },
    {
      "cell_type": "markdown",
      "metadata": {
        "id": "SZ-j28aPihZx"
      },
      "source": [
        "## Visualising the Test set results"
      ]
    },
    {
      "cell_type": "code",
      "metadata": {
        "id": "qeTjz2vDilAC"
      },
      "source": [
        "from matplotlib.colors import ListedColormap\n",
        "X_set, y_set = sc.inverse_transform(X_test), y_test\n",
        "X1, X2 = np.meshgrid(np.arange(start = X_set[:, 0].min() - 10, stop = X_set[:, 0].max() + 10, step = 0.25),\n",
        "                     np.arange(start = X_set[:, 1].min() - 1000, stop = X_set[:, 1].max() + 1000, step = 0.25))\n",
        "plt.contourf(X1, X2, classifier.predict(sc.transform(np.array([X1.ravel(), X2.ravel()]).T)).reshape(X1.shape),\n",
        "             alpha = 0.75, cmap = ListedColormap(('red', 'green')))\n",
        "plt.xlim(X1.min(), X1.max())\n",
        "plt.ylim(X2.min(), X2.max())\n",
        "for i, j in enumerate(np.unique(y_set)):\n",
        "    plt.scatter(X_set[y_set == j, 0], X_set[y_set == j, 1], c = ListedColormap(('red', 'green'))(i), label = j)\n",
        "plt.title('SVM (Test set)')\n",
        "plt.xlabel('Age')\n",
        "plt.ylabel('Estimated Salary')\n",
        "plt.legend()\n",
        "plt.show()"
      ],
      "execution_count": null,
      "outputs": []
    }
  ]
}