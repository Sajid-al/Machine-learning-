{
  "nbformat": 4,
  "nbformat_minor": 0,
  "metadata": {
    "colab": {
      "name": "Classification_Models.ipynb",
      "provenance": [],
      "include_colab_link": true
    },
    "kernelspec": {
      "name": "python3",
      "display_name": "Python 3"
    },
    "language_info": {
      "name": "python"
    }
  },
  "cells": [
    {
      "cell_type": "markdown",
      "metadata": {
        "id": "view-in-github",
        "colab_type": "text"
      },
      "source": [
        "<a href=\"https://colab.research.google.com/github/ekramasif/Basic-Machine-Learning/blob/main/Classification/Classification_Models.ipynb\" target=\"_parent\"><img src=\"https://colab.research.google.com/assets/colab-badge.svg\" alt=\"Open In Colab\"/></a>"
      ]
    },
    {
      "cell_type": "code",
      "execution_count": null,
      "metadata": {
        "id": "931yqq2DShJx"
      },
      "outputs": [],
      "source": [
        "#@title Preparing the data\n",
        "# Importing libraries\n",
        "import pandas as pd\n",
        "import numpy as np\n",
        "pd.set_option(\"display.precision\", 4)\n",
        "# Metrics\n",
        "from sklearn.metrics import accuracy_score\n",
        "from sklearn.metrics import f1_score\n",
        "\n",
        "# Loading the data\n",
        "df = pd.read_csv('Data.csv')\n",
        "X = df.iloc[:, :-1].values\n",
        "y = df.iloc[:, -1].values\n",
        "\n",
        "# Encoding the Dependent Variable\n",
        "from sklearn.preprocessing import LabelEncoder\n",
        "le = LabelEncoder()\n",
        "y = le.fit_transform(y)\n",
        "\n",
        "# Splitting the data into train and test set\n",
        "from sklearn.model_selection import train_test_split\n",
        "X_train, X_test, y_train, y_test = train_test_split(X, y,\n",
        "                                                    test_size = 0.2,\n",
        "                                                    random_state = 42)\n",
        "\n",
        "# Feature scaling\n",
        "from sklearn.preprocessing import StandardScaler\n",
        "sc = StandardScaler()\n",
        "X_train = sc.fit_transform(X_train)\n",
        "X_test = sc.fit_transform(X_test)\n",
        "\n"
      ]
    },
    {
      "cell_type": "code",
      "source": [
        "#@title Logistic Regression\n",
        "# Training the Logistic Regression model \n",
        "from sklearn.linear_model import LogisticRegression\n",
        "classifier_lr = LogisticRegression(random_state = 42)\n",
        "classifier_lr.fit(X_train, y_train)\n",
        "\n",
        "# Predicting the test values\n",
        "y_pred_lr = classifier_lr.predict(X_test)\n",
        "\n",
        "# Scoring\n",
        "acc_lr = accuracy_score(y_test, y_pred_lr)\n",
        "f1_lr = f1_score(y_test, y_pred_lr)"
      ],
      "metadata": {
        "id": "tEVNPMO2UuBC"
      },
      "execution_count": null,
      "outputs": []
    },
    {
      "cell_type": "code",
      "source": [
        "#@title K-Nearest Neighbors (K-NN)\n",
        "# Training the K-NN model\n",
        "\"\"\"\n",
        "Power parameter for the Minkowski metric. \n",
        "When p = 1, this is equivalent to using manhattan_distance (l1), \n",
        "and euclidean_distance (l2) for p = 2. \n",
        "\"\"\"\n",
        "from sklearn.neighbors import KNeighborsClassifier\n",
        "classifier_knn = KNeighborsClassifier(n_neighbors = 5, p = 2, metric = 'minkowski')\n",
        "classifier_knn.fit(X_train, y_train)\n",
        "\n",
        "# Predicting the test values\n",
        "y_pred_knn = classifier_knn.predict(X_test)\n",
        "\n",
        "# Scoring\n",
        "acc_knn = accuracy_score(y_test, y_pred_knn)\n",
        "f1_knn = f1_score(y_test, y_pred_knn)"
      ],
      "metadata": {
        "id": "9M55P5d_WF2M"
      },
      "execution_count": null,
      "outputs": []
    },
    {
      "cell_type": "code",
      "source": [
        "#@title Support Vector Machine (SVM)\n",
        "# Training the SVM Classifier model\n",
        "from sklearn.svm import SVC\n",
        "classifier_svm = SVC(kernel = 'linear', random_state = 42)\n",
        "classifier_svm.fit(X_train, y_train)\n",
        "\n",
        "# Predicting the test values\n",
        "y_pred_svm = classifier_svm.predict(X_test)\n",
        "\n",
        "# Scoring\n",
        "acc_svm = accuracy_score(y_test, y_pred_svm)\n",
        "f1_svm = f1_score(y_test, y_pred_svm)"
      ],
      "metadata": {
        "cellView": "form",
        "id": "sedJt-y_W4gh"
      },
      "execution_count": null,
      "outputs": []
    },
    {
      "cell_type": "code",
      "source": [
        "#@title Kernel SVM\n",
        "# Training the Kernel SVM model\n",
        "from sklearn.svm import SVC\n",
        "classifier_ksvm = SVC(kernel = 'rbf', random_state = 42)\n",
        "classifier_ksvm.fit(X_train, y_train)\n",
        "\n",
        "# Predicting the test values\n",
        "y_pred_ksvm = classifier_ksvm.predict(X_test)\n",
        "\n",
        "# Scoring\n",
        "acc_ksvm = accuracy_score(y_test, y_pred_ksvm)\n",
        "f1_ksvm = f1_score(y_test, y_pred_ksvm)"
      ],
      "metadata": {
        "cellView": "form",
        "id": "Qb0y0DuDXZ2I"
      },
      "execution_count": null,
      "outputs": []
    },
    {
      "cell_type": "code",
      "source": [
        "#@title Naive Bayes\n",
        "# Training the Naive Bayes model\n",
        "from sklearn.naive_bayes import GaussianNB\n",
        "classifier_nb = GaussianNB()\n",
        "classifier_nb.fit(X_train, y_train)\n",
        "\n",
        "# Predicting the test values\n",
        "y_pred_nb = classifier_nb.predict(X_test)\n",
        "\n",
        "# Scoring\n",
        "acc_nb = accuracy_score(y_test, y_pred_nb)\n",
        "f1_nb = f1_score(y_test, y_pred_nb)"
      ],
      "metadata": {
        "cellView": "form",
        "id": "QsMXewXrX3bR"
      },
      "execution_count": null,
      "outputs": []
    },
    {
      "cell_type": "code",
      "source": [
        "#@title Decision Tree Classification\n",
        "# Training the Decision Tree model\n",
        "from sklearn.tree import DecisionTreeClassifier\n",
        "classifier_dtc = DecisionTreeClassifier(criterion = 'entropy', random_state = 42)\n",
        "classifier_dtc.fit(X_train, y_train)\n",
        "\n",
        "# Predicting the test values\n",
        "y_pred_dtc = classifier_dtc.predict(X_test)\n",
        "\n",
        "# Scoring\n",
        "acc_dtc = accuracy_score(y_test, y_pred_dtc)\n",
        "f1_dtc = f1_score(y_test, y_pred_dtc)"
      ],
      "metadata": {
        "cellView": "form",
        "id": "A4dw2EIxYSHq"
      },
      "execution_count": null,
      "outputs": []
    },
    {
      "cell_type": "code",
      "source": [
        "#@title Random Forest Classification\n",
        "# Training Random Forest model\n",
        "from sklearn.ensemble import RandomForestClassifier\n",
        "classifier_rfc = RandomForestClassifier(n_estimators=100, criterion='entropy',\n",
        "                                    random_state = 42)\n",
        "classifier_rfc.fit(X_train, y_train)\n",
        "\n",
        "# Predicting the test results\n",
        "y_pred_rfc = classifier_rfc.predict(X_test)\n",
        "\n",
        "# Scoring\n",
        "acc_rfc = accuracy_score(y_test, y_pred_rfc)\n",
        "f1_rfc = f1_score(y_test, y_pred_rfc)"
      ],
      "metadata": {
        "cellView": "form",
        "id": "q55gb2_WZH3Y"
      },
      "execution_count": null,
      "outputs": []
    },
    {
      "cell_type": "code",
      "source": [
        "#@title Results\n",
        "scores = np.array([[acc_lr, f1_lr], [acc_knn, f1_knn], [acc_svm, f1_svm],\n",
        "                   [acc_ksvm, f1_svm],  [acc_nb, f1_nb], [acc_dtc, f1_dtc],\n",
        "                   [acc_rfc, f1_rfc]])\n",
        "result = pd.DataFrame(data = scores,\n",
        "                      columns = ['Accuracy', 'f1 score'],\n",
        "                      index = ['LR', 'KNN', 'SVM', 'KSVM', 'NB', 'DTC', 'RTC'])\n",
        "result.style"
      ],
      "metadata": {
        "colab": {
          "base_uri": "https://localhost:8080/",
          "height": 269
        },
        "id": "0btMvmVxZw_R",
        "outputId": "27042d88-33b0-4ec9-ba0f-8abbb3cfb1b2"
      },
      "execution_count": null,
      "outputs": [
        {
          "output_type": "execute_result",
          "data": {
            "text/plain": [
              "<pandas.io.formats.style.Styler at 0x7fba03207210>"
            ],
            "text/html": [
              "<style type=\"text/css\">\n",
              "</style>\n",
              "<table id=\"T_f606b_\" class=\"dataframe\">\n",
              "  <thead>\n",
              "    <tr>\n",
              "      <th class=\"blank level0\" >&nbsp;</th>\n",
              "      <th class=\"col_heading level0 col0\" >Accuracy</th>\n",
              "      <th class=\"col_heading level0 col1\" >f1 score</th>\n",
              "    </tr>\n",
              "  </thead>\n",
              "  <tbody>\n",
              "    <tr>\n",
              "      <th id=\"T_f606b_level0_row0\" class=\"row_heading level0 row0\" >LR</th>\n",
              "      <td id=\"T_f606b_row0_col0\" class=\"data row0 col0\" >0.9343</td>\n",
              "      <td id=\"T_f606b_row0_col1\" class=\"data row0 col1\" >0.9174</td>\n",
              "    </tr>\n",
              "    <tr>\n",
              "      <th id=\"T_f606b_level0_row1\" class=\"row_heading level0 row1\" >KNN</th>\n",
              "      <td id=\"T_f606b_row1_col0\" class=\"data row1 col0\" >0.9489</td>\n",
              "      <td id=\"T_f606b_row1_col1\" class=\"data row1 col1\" >0.9369</td>\n",
              "    </tr>\n",
              "    <tr>\n",
              "      <th id=\"T_f606b_level0_row2\" class=\"row_heading level0 row2\" >SVM</th>\n",
              "      <td id=\"T_f606b_row2_col0\" class=\"data row2 col0\" >0.9489</td>\n",
              "      <td id=\"T_f606b_row2_col1\" class=\"data row2 col1\" >0.9369</td>\n",
              "    </tr>\n",
              "    <tr>\n",
              "      <th id=\"T_f606b_level0_row3\" class=\"row_heading level0 row3\" >KSVM</th>\n",
              "      <td id=\"T_f606b_row3_col0\" class=\"data row3 col0\" >0.9489</td>\n",
              "      <td id=\"T_f606b_row3_col1\" class=\"data row3 col1\" >0.9369</td>\n",
              "    </tr>\n",
              "    <tr>\n",
              "      <th id=\"T_f606b_level0_row4\" class=\"row_heading level0 row4\" >NB</th>\n",
              "      <td id=\"T_f606b_row4_col0\" class=\"data row4 col0\" >0.9562</td>\n",
              "      <td id=\"T_f606b_row4_col1\" class=\"data row4 col1\" >0.9483</td>\n",
              "    </tr>\n",
              "    <tr>\n",
              "      <th id=\"T_f606b_level0_row5\" class=\"row_heading level0 row5\" >DTC</th>\n",
              "      <td id=\"T_f606b_row5_col0\" class=\"data row5 col0\" >0.9489</td>\n",
              "      <td id=\"T_f606b_row5_col1\" class=\"data row5 col1\" >0.9369</td>\n",
              "    </tr>\n",
              "    <tr>\n",
              "      <th id=\"T_f606b_level0_row6\" class=\"row_heading level0 row6\" >RTC</th>\n",
              "      <td id=\"T_f606b_row6_col0\" class=\"data row6 col0\" >0.9416</td>\n",
              "      <td id=\"T_f606b_row6_col1\" class=\"data row6 col1\" >0.9273</td>\n",
              "    </tr>\n",
              "  </tbody>\n",
              "</table>\n"
            ]
          },
          "metadata": {},
          "execution_count": 9
        }
      ]
    }
  ]
}